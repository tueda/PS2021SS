{
 "cells": [
  {
   "cell_type": "markdown",
   "metadata": {},
   "source": [
    "# 動作確認"
   ]
  },
  {
   "cell_type": "markdown",
   "metadata": {},
   "source": [
    "次のセルを実行してみよう[<sup id=\"cite_ref-1\">[1]</sup>](#cite_note-1)。また、`a`の値を`0.0`から書き換えて再実行してみよう。"
   ]
  },
  {
   "cell_type": "code",
   "execution_count": null,
   "metadata": {},
   "outputs": [],
   "source": [
    "%matplotlib inline\n",
    "import matplotlib.pyplot as plt\n",
    "from numpy import cos, linspace, pi, sin\n",
    "\n",
    "a = 0.0\n",
    "\n",
    "t = linspace(0, 2 * pi, 200)\n",
    "x = (\n",
    "    2337*cos(t)/8-43*cos(2*t)/5+322*cos(3*t)/5-117*cos(4*t)/5-26*cos(5*t)/5\n",
    "    -23*cos(6*t)/3+143*cos(7*t)/4-11*cos(8*t)/4-31*cos(9*t)/3-13*cos(10*t)/4\n",
    "    -9*cos(11*t)/2+41*cos(12*t)/20+8*cos(13*t)+2*cos(14*t)/3+6*cos(15*t)\n",
    "    +17*cos(16*t)/4-3*cos(17*t)/2-29*cos(18*t)/10+11*cos(19*t)/6\n",
    "    +12*cos(20*t)/5+3*cos(21*t)/2+11*cos(22*t)/12-4*cos(23*t)/5+cos(24*t)\n",
    "    +17*cos(25*t)/8-7*cos(26*t)/2-5*cos(27*t)/6-11*cos(28*t)/10+cos(29*t)/2\n",
    "    -cos(30*t)/5-721*sin(t)/4+196*sin(2*t)/3-86*sin(3*t)/3-131*sin(4*t)/2\n",
    "    +477*sin(5*t)/14+27*sin(6*t)-29*sin(7*t)/2+68*sin(8*t)/5+sin(9*t)/10\n",
    "    +23*sin(10*t)/4-19*sin(12*t)/2-85*sin(13*t)/21+2*sin(14*t)/3\n",
    "    +27*sin(15*t)/5+7*sin(16*t)/4+17*sin(17*t)/9-4*sin(18*t)-sin(19*t)/2\n",
    "    +sin(20*t)/6+6*sin(21*t)/7-sin(22*t)/8+sin(23*t)/3+3*sin(24*t)/2\n",
    "    +13*sin(25*t)/5+sin(26*t)-2*sin(27*t)+3*sin(28*t)/5-sin(29*t)/5\n",
    "    +sin(30*t)/5\n",
    ")\n",
    "y = (\n",
    "    -125*cos(t)/2-521*cos(2*t)/9-359*cos(3*t)/3+47*cos(4*t)/3-33*cos(5*t)/2\n",
    "    -5*cos(6*t)/4+31*cos(7*t)/8+9*cos(8*t)/10-119*cos(9*t)/4-17*cos(10*t)/2\n",
    "    +22*cos(11*t)/3+15*cos(12*t)/4-5*cos(13*t)/2+19*cos(14*t)/6+7*cos(15*t)/4\n",
    "    +31*cos(16*t)/4-cos(17*t)+11*cos(18*t)/10-2*cos(19*t)/3+13*cos(20*t)/3\n",
    "    -5*cos(21*t)/4+2*cos(22*t)/3+cos(23*t)/4+5*cos(24*t)/6+3*cos(26*t)/4\n",
    "    -cos(27*t)/2-cos(28*t)/10-cos(29*t)/3-cos(30*t)/19-637*sin(t)/2\n",
    "    -188*sin(2*t)/5-11*sin(3*t)/7-12*sin(4*t)/5+11*sin(5*t)/3-37*sin(6*t)/4\n",
    "    +8*sin(7*t)/3+65*sin(8*t)/6-32*sin(9*t)/5-41*sin(10*t)/4-38*sin(11*t)/3\n",
    "    -47*sin(12*t)/8+5*sin(13*t)/4-41*sin(14*t)/7-7*sin(15*t)/3-13*sin(16*t)/7\n",
    "    +17*sin(17*t)/4-9*sin(18*t)/4+8*sin(19*t)/9+3*sin(20*t)/5-2*sin(21*t)/5\n",
    "    +4*sin(22*t)/3+sin(23*t)/3+3*sin(24*t)/5-3*sin(25*t)/5+6*sin(26*t)/5\n",
    "    -sin(27*t)/5+10*sin(28*t)/9+sin(29*t)/3-3*sin(30*t)/4\n",
    ")\n",
    "x, y = x * cos(a) - y * sin(a), x * sin(a) + y * cos(a)\n",
    "fig, ax = plt.subplots()\n",
    "ax.plot(x, y)\n",
    "plt.show()"
   ]
  },
  {
   "cell_type": "markdown",
   "metadata": {},
   "source": [
    "## 脚注"
   ]
  },
  {
   "cell_type": "markdown",
   "metadata": {},
   "source": [
    "<span id=\"cite_note-1\">1.</span> [^](#cite_ref-1)\n",
    "このパラメトリック曲線の方程式はWolfram Alphaの[first cat curve](https://www.wolframalpha.com/input/?i=first+cat+curve)のものである。猫に見えるだろうか。"
   ]
  },
  {
   "cell_type": "code",
   "execution_count": null,
   "metadata": {},
   "outputs": [],
   "source": []
  }
 ],
 "metadata": {
  "kernelspec": {
   "display_name": "Python 3",
   "language": "python",
   "name": "python3"
  },
  "language_info": {
   "codemirror_mode": {
    "name": "ipython",
    "version": 3
   },
   "file_extension": ".py",
   "mimetype": "text/x-python",
   "name": "python",
   "nbconvert_exporter": "python",
   "pygments_lexer": "ipython3",
   "version": "3.6.9"
  }
 },
 "nbformat": 4,
 "nbformat_minor": 4
}
