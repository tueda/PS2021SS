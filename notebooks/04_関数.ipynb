{
 "cells": [
  {
   "cell_type": "markdown",
   "id": "introductory-roommate",
   "metadata": {},
   "source": [
    "# 関数"
   ]
  },
  {
   "cell_type": "markdown",
   "id": "economic-server",
   "metadata": {},
   "source": [
    "これまでに「順次実行（上から下に順に実行）」「条件分岐（if文）」「反復処理（while文、for文）」について学んだ。あとはアルゴリズム（計算手順）を適切に書くことができれば、いろいろなことをプログラム上で実現できるはずである。しかし、これまで学んだ内容だけでは（原理的には可能であっても）実際に巨大なプログラムをまったく間違いなく書くことは難しい。一般に、大き過ぎる問題（プログラミングの場合、巨大なプログラムを間違いなく書くこと）を解決するコツは、それを手頃な大きさの小さな問題に分割して1つずつ解決していくことである。今回はPythonにおける「関数」を導入して、何度も利用する処理のまとまりを定義したり、プログラムを分かりやすく分割したりする手法を学ぶ[<sup id=\"cite_ref-1\">[1]</sup>](#cite_note-1)。"
   ]
  },
  {
   "cell_type": "markdown",
   "id": "vocational-wallet",
   "metadata": {},
   "source": [
    "## 今回のねらい"
   ]
  },
  {
   "cell_type": "markdown",
   "id": "coordinated-suspect",
   "metadata": {},
   "source": [
    "- 関数の定義の仕方、およびその呼び出し方について基礎的なことを理解する。\n",
    "- 関数内のローカル変数について理解する。"
   ]
  },
  {
   "cell_type": "markdown",
   "id": "quick-optics",
   "metadata": {},
   "source": [
    "## 簡単な例"
   ]
  },
  {
   "cell_type": "markdown",
   "id": "functioning-auditor",
   "metadata": {},
   "source": [
    "Pythonでは、処理のまとまりを「関数」として定義し、あとで呼び出せる。次のセルでは`'わんわん'`と表示するという処理を行う`inu`関数を定義している[<sup id=\"cite_ref-2\">[2]</sup>](#cite_note-2)。"
   ]
  },
  {
   "cell_type": "code",
   "execution_count": null,
   "id": "serial-therapy",
   "metadata": {},
   "outputs": [],
   "source": [
    "def inu():\n",
    "    print('わんわん')"
   ]
  },
  {
   "cell_type": "markdown",
   "id": "blessed-station",
   "metadata": {},
   "source": [
    "文法のポイントは以下の通りである。\n",
    "\n",
    "- 関数の定義は`def`キーワードで始まる。\n",
    "- `def`キーワードの後に関数名（ここでは`inu`）を書く。\n",
    "- その後に引数[<sup id=\"cite_ref-3\">[3]</sup>](#cite_note-3)（parameter）リストを丸括弧で囲んで書く。ただし、この例では引数は空`()`としている。その後にコロン（`:`）を書く。\n",
    "- 関数で行いたい処理は、インデントによって表されたブロックに書く[<sup id=\"cite_ref-4\">[4]</sup>](#cite_note-4)。\n",
    "\n",
    "この時点では、関数`inu`が定義されただけで、その中身の処理が実行されたわけではない。定義された`inu`関数を呼び出してその中身を実行するには次のようにする（関数名の後の丸括弧`()`を忘れないように）。"
   ]
  },
  {
   "cell_type": "code",
   "execution_count": null,
   "id": "danish-command",
   "metadata": {},
   "outputs": [],
   "source": [
    "inu()"
   ]
  },
  {
   "cell_type": "markdown",
   "id": "virtual-collection",
   "metadata": {},
   "source": [
    "関数は何度でも呼び出せる。"
   ]
  },
  {
   "cell_type": "code",
   "execution_count": null,
   "id": "rural-water",
   "metadata": {},
   "outputs": [],
   "source": [
    "inu()\n",
    "inu()"
   ]
  },
  {
   "cell_type": "code",
   "execution_count": null,
   "id": "asian-wrist",
   "metadata": {},
   "outputs": [],
   "source": [
    "for i in range(5):\n",
    "    inu()"
   ]
  },
  {
   "cell_type": "markdown",
   "id": "clean-arrow",
   "metadata": {},
   "source": [
    "なお、変数の場合と同じように、関数も`def`で定義し直すことにより上書きされる[<sup id=\"cite_ref-5\">[5]</sup>](#cite_note-5)。"
   ]
  },
  {
   "cell_type": "code",
   "execution_count": null,
   "id": "textile-share",
   "metadata": {},
   "outputs": [],
   "source": [
    "def inu():\n",
    "    print('わん')\n",
    "    \n",
    "def inu():\n",
    "    print('わんわん')\n",
    "    \n",
    "def inu():\n",
    "    print('わんわんわん')\n",
    "\n",
    "inu()"
   ]
  },
  {
   "cell_type": "markdown",
   "id": "sitting-ireland",
   "metadata": {},
   "source": [
    "## 引数を使う"
   ]
  },
  {
   "cell_type": "markdown",
   "id": "divided-question",
   "metadata": {},
   "source": [
    "関数には引数といって、その呼び出し時に外部からデータを与えられる。次のセルの`inu`関数は、引数[<sup id=\"cite_ref-6\">[6]</sup>](#cite_note-6)`n`をとり、その値によって鳴く回数を変えている。"
   ]
  },
  {
   "cell_type": "code",
   "execution_count": null,
   "id": "right-three",
   "metadata": {},
   "outputs": [],
   "source": [
    "def inu(n):\n",
    "    print('わん' * n)"
   ]
  },
  {
   "cell_type": "markdown",
   "id": "dramatic-phase",
   "metadata": {},
   "source": [
    "ここでは、`文字列 * 整数`が（`リスト * 整数`と同様に）その文字列を指定された回数だけ繰り返したものを与えることを利用している。"
   ]
  },
  {
   "cell_type": "markdown",
   "id": "unable-christian",
   "metadata": {},
   "source": [
    "関数の呼び出し側は、次のように丸括弧の中にデータを与えることで、関数に引数[<sup id=\"cite_ref-7\">[7]</sup>](#cite_note-7)を渡す[<sup id=\"cite_ref-8\">[8]</sup>](#cite_note-8)。"
   ]
  },
  {
   "cell_type": "code",
   "execution_count": null,
   "id": "disabled-nebraska",
   "metadata": {},
   "outputs": [],
   "source": [
    "inu(1)\n",
    "inu(2)"
   ]
  },
  {
   "cell_type": "code",
   "execution_count": null,
   "id": "stunning-second",
   "metadata": {},
   "outputs": [],
   "source": [
    "for i in range(5):\n",
    "    inu(i)"
   ]
  },
  {
   "cell_type": "markdown",
   "id": "verbal-tradition",
   "metadata": {},
   "source": [
    "2個以上の引数を使うこともできる。"
   ]
  },
  {
   "cell_type": "code",
   "execution_count": null,
   "id": "devoted-shark",
   "metadata": {},
   "outputs": [],
   "source": [
    "def make_sound(sound, n):\n",
    "    print(sound * n)"
   ]
  },
  {
   "cell_type": "code",
   "execution_count": null,
   "id": "engaged-cycling",
   "metadata": {},
   "outputs": [],
   "source": [
    "make_sound('わん', 3)\n",
    "make_sound('にゃん', 2)"
   ]
  },
  {
   "cell_type": "markdown",
   "id": "three-terrain",
   "metadata": {},
   "source": [
    "## 関数を終了する"
   ]
  },
  {
   "cell_type": "markdown",
   "id": "small-police",
   "metadata": {},
   "source": [
    "関数の中でreturn文を使うと、その関数の実行は終了して、呼び出し側に処理が戻る。次の例を見てみよう。"
   ]
  },
  {
   "cell_type": "code",
   "execution_count": null,
   "id": "ahead-aircraft",
   "metadata": {},
   "outputs": [],
   "source": [
    "def make_sounds():\n",
    "    print('わんわん')\n",
    "    print('にゃんにゃん')\n",
    "    return\n",
    "    print('ぐぉっぐぉっ')"
   ]
  },
  {
   "cell_type": "code",
   "execution_count": null,
   "id": "consecutive-pontiac",
   "metadata": {},
   "outputs": [],
   "source": [
    "make_sounds()"
   ]
  },
  {
   "cell_type": "markdown",
   "id": "aquatic-consultancy",
   "metadata": {},
   "source": [
    "3番目の`print`が呼ばれずに関数が終了していることが分かるだろう。通常は、条件判断と組み合わせることで「ある条件が満たされたら関数を終了する」というように使うか、あるいは次で見るように「関数の結果として値を返す」ことに使う。"
   ]
  },
  {
   "cell_type": "markdown",
   "id": "ready-equation",
   "metadata": {},
   "source": [
    "## 値を返す"
   ]
  },
  {
   "cell_type": "markdown",
   "id": "further-reynolds",
   "metadata": {},
   "source": [
    "return文で、キーワード`return`の後に式を与えると、その値を関数の結果として返せる[<sup id=\"cite_ref-9\">[9]</sup>](#cite_note-9)。"
   ]
  },
  {
   "cell_type": "code",
   "execution_count": null,
   "id": "checked-leadership",
   "metadata": {},
   "outputs": [],
   "source": [
    "def square(x):\n",
    "    return x ** 2"
   ]
  },
  {
   "cell_type": "code",
   "execution_count": null,
   "id": "express-prototype",
   "metadata": {},
   "outputs": [],
   "source": [
    "for i in range(5):\n",
    "    result = square(i)\n",
    "    print(f'{i} ** 2 ==> {result}')"
   ]
  },
  {
   "cell_type": "markdown",
   "id": "human-concentrate",
   "metadata": {},
   "source": [
    "<!-- textlint-disable ja-technical-writing/ja-no-mixed-period -->\n",
    "\n",
    "引数をとり、値を返すことによって、数学の「関数」っぽいものとして見えるようになったことだろう。次の例では質点の周りの重力ポテンシャル：\n",
    "\n",
    "<!-- textlint-enable -->"
   ]
  },
  {
   "cell_type": "markdown",
   "id": "hollow-rebound",
   "metadata": {},
   "source": [
    "$$\n",
    "\\phi(x,y,z) = - \\frac{GM}{\\sqrt{x^2+y^2+z^2}},\n",
    "\\tag{1}\n",
    "$$"
   ]
  },
  {
   "cell_type": "markdown",
   "id": "crude-poetry",
   "metadata": {},
   "source": [
    "を定義している。ただし簡単のために$GM=1$となる単位系を取った。"
   ]
  },
  {
   "cell_type": "code",
   "execution_count": null,
   "id": "express-thumb",
   "metadata": {},
   "outputs": [],
   "source": [
    "def potential(x, y, z):\n",
    "    return - 1 / (x ** 2 + y ** 2 + z ** 2) ** (1 / 2)"
   ]
  },
  {
   "cell_type": "code",
   "execution_count": null,
   "id": "collectible-junction",
   "metadata": {},
   "outputs": [],
   "source": [
    "potential(3.0, 4.0, 5.0)"
   ]
  },
  {
   "cell_type": "markdown",
   "id": "dangerous-token",
   "metadata": {},
   "source": [
    "## 練習問題"
   ]
  },
  {
   "cell_type": "markdown",
   "id": "adapted-consultancy",
   "metadata": {},
   "source": [
    "(1) 次のような関数を定義せよ。"
   ]
  },
  {
   "cell_type": "markdown",
   "id": "optimum-benchmark",
   "metadata": {},
   "source": [
    "$$\n",
    "f(x) = x^3 + 1 .\n",
    "\\tag{2}\n",
    "$$"
   ]
  },
  {
   "cell_type": "markdown",
   "id": "hairy-inclusion",
   "metadata": {},
   "source": [
    "<!-- textlint-disable jtf-style/4.3.7.山かっこ<> -->\n",
    "$$\n",
    "g(x) =\n",
    "\\begin{cases}\n",
    "\\phantom{-}x , & \\text{for } x \\ge 0 , \\\\\n",
    "-x , & \\text{for } x < 0 .\n",
    "\\end{cases}\n",
    "\\tag{3}\n",
    "$$\n",
    "<!-- textlint-enable -->"
   ]
  },
  {
   "cell_type": "markdown",
   "id": "metallic-queen",
   "metadata": {},
   "source": [
    "## 複数の値を返す"
   ]
  },
  {
   "cell_type": "markdown",
   "id": "ranking-auditor",
   "metadata": {},
   "source": [
    "Pythonの関数が返すものは、必ずしも数である必要はない。文字列でも、リストでも、そのほか何でもよい。ここではリストを返す次の関数を考えよう。"
   ]
  },
  {
   "cell_type": "code",
   "execution_count": null,
   "id": "activated-brazil",
   "metadata": {},
   "outputs": [],
   "source": [
    "def f(x):\n",
    "    return [x, x + 1]"
   ]
  },
  {
   "cell_type": "code",
   "execution_count": null,
   "id": "monetary-canada",
   "metadata": {},
   "outputs": [],
   "source": [
    "f(100)"
   ]
  },
  {
   "cell_type": "code",
   "execution_count": null,
   "id": "defensive-tuesday",
   "metadata": {},
   "outputs": [],
   "source": [
    "a = f(1000)  # 返ってきた値を変数aに代入してみる。\n",
    "\n",
    "print(a[0])\n",
    "print(a[1])"
   ]
  },
  {
   "cell_type": "markdown",
   "id": "beginning-confirmation",
   "metadata": {},
   "source": [
    "なお、Pythonでは複数同時の代入（multiple assignment）が可能である。左辺と右辺をコンマ（`,`）で区切る[<sup id=\"cite_ref-10\">[10]</sup>](#cite_note-10)。ただし要素の数は左辺と右辺で同じでなければならない。"
   ]
  },
  {
   "cell_type": "code",
   "execution_count": null,
   "id": "occasional-steering",
   "metadata": {},
   "outputs": [],
   "source": [
    "x, y = 100, 200\n",
    "\n",
    "print(x)\n",
    "print(y)"
   ]
  },
  {
   "cell_type": "markdown",
   "id": "reasonable-crazy",
   "metadata": {},
   "source": [
    "右辺にはリストを書いてもよい。"
   ]
  },
  {
   "cell_type": "code",
   "execution_count": null,
   "id": "afb93584",
   "metadata": {},
   "outputs": [],
   "source": [
    "x, y = [100, 200]\n",
    "\n",
    "print(x)\n",
    "print(y)"
   ]
  },
  {
   "cell_type": "markdown",
   "id": "8bee190d",
   "metadata": {},
   "source": [
    "つまり関数`f`から返ってきた値を`x`と`y`に同時代入できる。"
   ]
  },
  {
   "cell_type": "code",
   "execution_count": null,
   "id": "continental-accuracy",
   "metadata": {},
   "outputs": [],
   "source": [
    "x, y = f(1000)\n",
    "\n",
    "print(x)\n",
    "print(y)"
   ]
  },
  {
   "cell_type": "markdown",
   "id": "based-possession",
   "metadata": {},
   "source": [
    "## デフォルト引数とキーワード引数"
   ]
  },
  {
   "cell_type": "markdown",
   "id": "noticed-garden",
   "metadata": {},
   "source": [
    "多機能な関数を作ると、引数の数が多くなってしまうことがある。その場合、関数を使う側も多くの引数を間違うことなく正確に渡さなければならず、使い勝手の悪いものになってしまう。Pythonでは、引数に対してデフォルトの値を定義できる[<sup id=\"cite_ref-11\">[11]</sup>](#cite_note-11)。"
   ]
  },
  {
   "cell_type": "code",
   "execution_count": null,
   "id": "brutal-darkness",
   "metadata": {},
   "outputs": [],
   "source": [
    "def func_with_many_params(a, b=0, c=0, d=0, e=0, f=0, g=0):\n",
    "    print(f'a = {a}')\n",
    "    print(f'b = {b}')\n",
    "    print(f'c = {c}')\n",
    "    print(f'd = {d}')\n",
    "    print(f'e = {e}')\n",
    "    print(f'f = {f}')\n",
    "    print(f'g = {g}')"
   ]
  },
  {
   "cell_type": "markdown",
   "id": "fresh-irish",
   "metadata": {},
   "source": [
    "上の関数`func_with_many_params`では`b`から`g`までの引数に対してデフォルトの値が与えられている。つまり`a`は必須の引数であり、`b`から`g`はオプション引数である。呼び出し側はオプション引数を何個か省略でき、その場合はデフォルトの値が使われる。"
   ]
  },
  {
   "cell_type": "code",
   "execution_count": null,
   "id": "broken-toronto",
   "metadata": {},
   "outputs": [],
   "source": [
    "func_with_many_params(100)  # bからgを省略"
   ]
  },
  {
   "cell_type": "code",
   "execution_count": null,
   "id": "handed-class",
   "metadata": {},
   "outputs": [],
   "source": [
    "func_with_many_params(100, 200, 300, 400)  # eからgを省略"
   ]
  },
  {
   "cell_type": "code",
   "execution_count": null,
   "id": "optical-technique",
   "metadata": {},
   "outputs": [],
   "source": [
    "func_with_many_params(100, 200, 300, 400, 500, 600, 700)  # 省略なし"
   ]
  },
  {
   "cell_type": "markdown",
   "id": "expanded-appearance",
   "metadata": {},
   "source": [
    "`kwarg=value`という形式のキーワード引数を関数に渡すこともできる。"
   ]
  },
  {
   "cell_type": "code",
   "execution_count": null,
   "id": "electoral-frederick",
   "metadata": {},
   "outputs": [],
   "source": [
    "func_with_many_params(100, e=500)  # 必須引数aとオプション引数eを渡す"
   ]
  },
  {
   "cell_type": "code",
   "execution_count": null,
   "id": "proof-format",
   "metadata": {},
   "outputs": [],
   "source": [
    "func_with_many_params(100, c=300, f=600, g=700)  # 必須引数aとオプション引数c, f, gを渡す"
   ]
  },
  {
   "cell_type": "markdown",
   "id": "sudden-april",
   "metadata": {},
   "source": [
    "## スコープ（変数の有効範囲）"
   ]
  },
  {
   "cell_type": "markdown",
   "id": "appropriate-intersection",
   "metadata": {},
   "source": [
    "Pythonにおいて、関数内で変数に代入すると、その変数の有効範囲はその関数内**のみ**となる。渡された引数が代入された変数の有効範囲もその関数内**のみ**である。関数の外側からは関数内の変数は見えない。また、関数内の変数への代入は関数の外側には影響を与えない[<sup id=\"cite_ref-12\">[12]</sup>](#cite_note-12)。"
   ]
  },
  {
   "cell_type": "code",
   "execution_count": null,
   "id": "gorgeous-midwest",
   "metadata": {},
   "outputs": [],
   "source": [
    "x = 2\n",
    "y = 3\n",
    "\n",
    "def foo(x):\n",
    "    # xとyの有効範囲はこの関数内のみ。\n",
    "    # 関数外のxとyとは違うものとして扱われる。\n",
    "    # なので、xとyを変更しても、関数外のxとyには影響を与えない。\n",
    "    x += 1\n",
    "    y = 300\n",
    "    print('関数の中')\n",
    "    print(x)\n",
    "    print(y)\n",
    "\n",
    "foo(199)\n",
    "\n",
    "print('関数の外')\n",
    "print(x)\n",
    "print(y)"
   ]
  },
  {
   "cell_type": "markdown",
   "id": "amino-central",
   "metadata": {},
   "source": [
    "ただし、関数内で参照された変数が関数内で定義されていない場合、その外側の変数が参照される[<sup id=\"cite_ref-13\">[13]</sup>](#cite_note-13)。"
   ]
  },
  {
   "cell_type": "code",
   "execution_count": null,
   "id": "fancy-norfolk",
   "metadata": {},
   "outputs": [],
   "source": [
    "x = 2\n",
    "y = 3\n",
    "\n",
    "def foo():\n",
    "    # xとyはこの関数内で定義(代入)されていない。\n",
    "    # 関数外のxとyが参照される。\n",
    "    print('関数の中')\n",
    "    print(x)\n",
    "    print(y)\n",
    "\n",
    "foo()\n",
    "\n",
    "print('関数の外')\n",
    "print(x)\n",
    "print(y)"
   ]
  },
  {
   "cell_type": "markdown",
   "id": "retired-architecture",
   "metadata": {},
   "source": [
    "関数内の変数は、内部からしかその名前でアクセスできないという意味で、ローカル変数（local variable）と呼ばれる。これに対して関数の外側の変数は、どこからでもアクセスできるという意味で、グローバル変数（global variable）と呼ばれる。このような変数の有効範囲のことを、一般にスコープ（scope）と呼ぶ。プログラミング言語によってスコープがどのように決定されるかは違う。Pythonは関数によってスコープが作られる言語であると言える[<sup id=\"cite_ref-14\">[14]</sup>](#cite_note-14)。"
   ]
  },
  {
   "cell_type": "markdown",
   "id": "anonymous-accounting",
   "metadata": {},
   "source": [
    "<!-- textlint-disable ja-technical-writing/max-ten,ja-technical-writing/sentence-length -->\n",
    "\n",
    "関数内の変数を外から参照できないというのは不便なことに思えるかも知れない。しかし、このような外部からは内部が参照できない機構（ブラックボックス；black box）を作ることが大きなプログラムを作るときには役に立つ。大きなプログラムをいくつかの関数に分けて、チームで手分けして書くこととしよう。もし、スコープがない、つまりすべての変数がグローバルならば、「`x`という変数はAさんが使うから他の人は決して使ってはいけない」などということをすべての変数に対してあらかじめ決めておく必要がある。うっかりBさんが自分の作っている関数の中で`x`を使うだけで、Aさんの担当部分に影響を及ぼして、プログラムが正常に動作しなくなるだろう（おそらく、うまくいっているときはうまく動くが、よく分からない複雑な条件下でなぜか動かなくなるという、悪夢のような状況になる）。\n",
    "\n",
    "<!-- textlint-enable -->"
   ]
  },
  {
   "cell_type": "markdown",
   "id": "impaired-outreach",
   "metadata": {},
   "source": [
    "## 関数を関数に渡す、関数から関数を返す"
   ]
  },
  {
   "cell_type": "markdown",
   "id": "animal-leeds",
   "metadata": {},
   "source": [
    "もう少し関数について慣れるために、次の例を考えよう。"
   ]
  },
  {
   "cell_type": "code",
   "execution_count": null,
   "id": "textile-ivory",
   "metadata": {},
   "outputs": [],
   "source": [
    "def f(x):\n",
    "    return x ** 2\n",
    "\n",
    "def g(x):\n",
    "    return f(x) + 1\n",
    "\n",
    "f(g(1))"
   ]
  },
  {
   "cell_type": "markdown",
   "id": "orange-friendship",
   "metadata": {},
   "source": [
    "<!-- textlint-disable ja-technical-writing/ja-no-mixed-period -->\n",
    "\n",
    "上の例では\n",
    "- 関数`g`の中で関数`f`を呼び出している、\n",
    "- `g(1)`を評価した結果を関数`f`に渡している、\n",
    "\n",
    "ということをしているが、落ち着いて考えればこれまでに学んだことの延長線上にあるものであり、何ら新しいことをしているわけではないことがわかるだろう。\n",
    "\n",
    "<!-- textlint-enable -->"
   ]
  },
  {
   "cell_type": "markdown",
   "id": "agreed-launch",
   "metadata": {},
   "source": [
    "これに対し、次の例では、関数`h`を関数`average`に渡し、`average`の内部で`f(x1)`、`f(x2)`のように呼び出している。"
   ]
  },
  {
   "cell_type": "code",
   "execution_count": null,
   "id": "perceived-hotel",
   "metadata": {},
   "outputs": [],
   "source": [
    "def h(x):\n",
    "    return x ** 2\n",
    "\n",
    "def average(f, x1, x2):\n",
    "    return (f(x1) + f(x2)) / 2\n",
    "\n",
    "average(h, 1, 2)"
   ]
  },
  {
   "cell_type": "markdown",
   "id": "written-campus",
   "metadata": {},
   "source": [
    "次の例では、`make_func`はその内部で定義したローカル関数[<sup id=\"cite_ref-15\">[15]</sup>](#cite_note-15)を返し、呼び出し側ではそれを`f(20)`のように評価している。"
   ]
  },
  {
   "cell_type": "code",
   "execution_count": null,
   "id": "above-status",
   "metadata": {},
   "outputs": [],
   "source": [
    "def make_func(x):\n",
    "    def add(y):\n",
    "        return x + y\n",
    "    return add\n",
    "    \n",
    "f = make_func(1)\n",
    "f(20)"
   ]
  },
  {
   "cell_type": "markdown",
   "id": "bulgarian-personal",
   "metadata": {},
   "source": [
    "## 再帰呼び出し"
   ]
  },
  {
   "cell_type": "markdown",
   "id": "worthy-framing",
   "metadata": {},
   "source": [
    "ある関数の中でその関数自身を呼び出せる[<sup id=\"cite_ref-16\">[16]</sup>](#cite_note-16)[<sup id=\"cite_ref-17\">[17]</sup>](#cite_note-17)。これは、漸化式で定義された数列の計算など、再帰的な構造を持つアルゴリズムの記述に適している。次の例では正の整数$n$に対し階乗を求める関数`factorial`を再帰呼び出しによって定義している[<sup id=\"cite_ref-18\">[18]</sup>](#cite_note-18)[<sup id=\"cite_ref-19\">[19]</sup>](#cite_note-19)。"
   ]
  },
  {
   "cell_type": "code",
   "execution_count": null,
   "id": "secure-musician",
   "metadata": {},
   "outputs": [],
   "source": [
    "def factorial(n):\n",
    "    if n == 1:\n",
    "        return 1\n",
    "    else:\n",
    "        return n * factorial(n - 1)"
   ]
  },
  {
   "cell_type": "code",
   "execution_count": null,
   "id": "offshore-advertiser",
   "metadata": {},
   "outputs": [],
   "source": [
    "factorial(5)"
   ]
  },
  {
   "cell_type": "markdown",
   "id": "powered-supply",
   "metadata": {},
   "source": [
    "ただし、この場合は反復処理を使って同じことをする関数を次のようにも定義できる。"
   ]
  },
  {
   "cell_type": "code",
   "execution_count": null,
   "id": "hazardous-rochester",
   "metadata": {},
   "outputs": [],
   "source": [
    "def factorial(n):\n",
    "    result = 1\n",
    "    for i in range(1, n + 1):\n",
    "        result *= i\n",
    "    return result"
   ]
  },
  {
   "cell_type": "markdown",
   "id": "modified-faith",
   "metadata": {},
   "source": [
    "<!-- textlint-disable ja-technical-writing/ja-no-mixed-period -->\n",
    "\n",
    "次の例は、以下の漸化式\n",
    "\n",
    "<!-- textlint-enable -->"
   ]
  },
  {
   "cell_type": "markdown",
   "id": "color-equity",
   "metadata": {},
   "source": [
    "$$\n",
    "F_1 = F_2 = 1,\n",
    "\\tag{4}\n",
    "$$"
   ]
  },
  {
   "cell_type": "markdown",
   "id": "seventh-measure",
   "metadata": {},
   "source": [
    "$$\n",
    "F_{n} = F_{n-1} + F_{n-2}, \\quad \\text{for } n \\ge 3 ,\n",
    "\\tag{5}\n",
    "$$"
   ]
  },
  {
   "cell_type": "markdown",
   "id": "outstanding-guidance",
   "metadata": {},
   "source": [
    "で定義されるフィボナッチ数列の第$n$項を求める関数`fib`である[<sup id=\"cite_ref-20\">[20]</sup>](#cite_note-20)。"
   ]
  },
  {
   "cell_type": "code",
   "execution_count": null,
   "id": "supposed-cycling",
   "metadata": {},
   "outputs": [],
   "source": [
    "def fib(n):\n",
    "    if n == 1 or n == 2:\n",
    "        return 1\n",
    "    else:\n",
    "        return fib(n - 1) + fib(n - 2)"
   ]
  },
  {
   "cell_type": "code",
   "execution_count": null,
   "id": "dressed-prince",
   "metadata": {},
   "outputs": [],
   "source": [
    "for i in range(1, 11):\n",
    "    print(fib(i))"
   ]
  },
  {
   "cell_type": "markdown",
   "id": "welcome-opportunity",
   "metadata": {},
   "source": [
    "## 練習問題"
   ]
  },
  {
   "cell_type": "markdown",
   "id": "molecular-squad",
   "metadata": {},
   "source": [
    "(2) 以下の漸化式で定義されるトリボナッチ数列の第$n$項を求める関数`tri`を書け。"
   ]
  },
  {
   "cell_type": "markdown",
   "id": "biblical-blackberry",
   "metadata": {},
   "source": [
    "$$\n",
    "T_1 = 0, \\quad\n",
    "T_2 = T_3 = 1,\n",
    "\\tag{6}\n",
    "$$"
   ]
  },
  {
   "cell_type": "markdown",
   "id": "brave-underwear",
   "metadata": {},
   "source": [
    "$$\n",
    "T_{n} = T_{n-1} + T_{n-2} + T_{n-3} , \\quad \\text{for } n \\ge 4 .\n",
    "\\tag{7}\n",
    "$$"
   ]
  },
  {
   "cell_type": "markdown",
   "id": "floppy-developer",
   "metadata": {},
   "source": [
    "## ブラックジャック"
   ]
  },
  {
   "cell_type": "markdown",
   "id": "distinct-expense",
   "metadata": {},
   "source": [
    "ブラックジャック（Blackjack）というトランプゲームを知っているだろうか。ここでは次のような簡易版（というより変則版）ブラックジャックを考える。\n",
    "- 人間をプレーヤー、コンピューターを親（ディーラー）とする。\n",
    "- プレーヤーは最大3枚までカードを引けるが、引くか引かないかは選択できる。\n",
    "- 親は必ず2枚だけ引く。\n",
    "- カードの数字の合計を得点として勝敗を競う。ただし、21点を**超えた**とき（バスト）は負けとなる。\n",
    "- カードは1から10までとする。本来は、A（エース）は1と11のどちらか都合のよいほうとして数えるのだが、簡単のためそれはしないことにする。\n",
    "- カードの「山」は乱数で作る。本来は、特定の数字のカードは（トランプ1組の場合）4枚以内であるべきだが、簡単のためそのチェックはしないことにする。"
   ]
  },
  {
   "cell_type": "markdown",
   "id": "liquid-diploma",
   "metadata": {},
   "source": [
    "## 演習課題"
   ]
  },
  {
   "cell_type": "markdown",
   "id": "round-earthquake",
   "metadata": {},
   "source": [
    "(1) 上記のルールのブラックジャックを行うプログラムは次のように書ける。"
   ]
  },
  {
   "cell_type": "code",
   "execution_count": null,
   "id": "grave-comparative",
   "metadata": {},
   "outputs": [],
   "source": [
    "# 課題解答4.1  <-- 提出する際に、この行を必ず含めること。\n",
    "\n",
    "import random\n",
    "\n",
    "# メッセージとともにユーザーに「y」か「n」を入力させる関数。\n",
    "# 「y」であればTrue、「n」であればFalseを返す。\n",
    "# 「y」と「n」以外の入力は受け付けない（ユーザー入力を繰り返す）。\n",
    "def ask_yesno(message):\n",
    "    answer = input(f'{message} [y/n]')\n",
    "    while True:\n",
    "        if answer == 'y':\n",
    "            return True\n",
    "        elif answer == 'n':\n",
    "            return False\n",
    "        answer = input(f'[y/n]')\n",
    "\n",
    "# 人間の手札（得点の和）を決めて、それを返す関数。\n",
    "def man_hand():\n",
    "    score = 0\n",
    "    for i in range(3):\n",
    "        if not ask_yesno('もう一枚引きますか?'):\n",
    "            break\n",
    "        score += get_card('あなた')\n",
    "    return score\n",
    "\n",
    "# コンピューターの手札（得点の和）を決めて、それを返す関数。\n",
    "def com_hand():\n",
    "    score = 0\n",
    "    for i in range(2):\n",
    "        score += get_card('コンピューター')\n",
    "    return score\n",
    "    \n",
    "# ランダムでカードを引いてその得点を返す関数。\n",
    "# ついでに引いたカードを表示する。\n",
    "def get_card(name):\n",
    "    card = random.randint(1, 10)\n",
    "    print(f'{name}の引いたカードは{card}です')\n",
    "    return card\n",
    "    \n",
    "# manが人間の手札（得点の和）、comがコンピューターの手札（得点の和）として、\n",
    "# 勝ち負けの判断をして表示する関数。\n",
    "def fight(man, com):        \n",
    "    print(f'あなたは{man}、 コンピューターは{com}')\n",
    "    # 細かいルール:\n",
    "    # プレイヤーとディーラーがともにバストの場合 --> （先に引いた）プレイヤーの負け\n",
    "    if man > 21 or man < com <= 21:\n",
    "        print('あなたの負け')\n",
    "    elif man == com:\n",
    "        print('引き分け')\n",
    "    else:\n",
    "        print('あなたの勝ち')\n",
    "\n",
    "# ブラックジャックをする関数。\n",
    "def blackjack():\n",
    "    man = man_hand()\n",
    "    com = com_hand()\n",
    "    fight(man, com)\n",
    "    \n",
    "# 実行する。\n",
    "blackjack()"
   ]
  },
  {
   "cell_type": "markdown",
   "id": "technological-limit",
   "metadata": {},
   "source": [
    "<!-- textlint-disable ja-technical-writing/no-mix-dearu-desumasu -->\n",
    "\n",
    "上のプログラムの構造を理解したうえで（関数によって各機能が分割されていることに注意せよ）、次のように書き換えよ。\n",
    "- 人間は毎回カードを引くかどうかを選択しているが、よく考えると2回までなら絶対に得点の和が20を超えないのでバストしない。よって人間は、2回は（確認をしないで）必ず引いて、**3回目のみカードを引くかどうかを選択**するようにする。\n",
    "- コンピューターは2回のみカードを引いている。だがコンピューターにも3枚目のカードを引く権利があってよいはずだ。しかしバストするのも怖いので、コンピューターは2回カードを引いた時点での**得点が17未満なら3枚目のカードを引く**こととする。\n",
    "- カードは1から10までになっているが、トランプには絵札（11、12、13）もある。ブラックジャックではこれらの絵札は10としてカウントする。よって、引ける**カードを1から13までとし、11から13までの絵札の点は10**とする。例：12が出たら「…の引いたカードは12です」と表示されるが、得点は10である。\n",
    "\n",
    "<!-- textlint-enable -->"
   ]
  },
  {
   "cell_type": "markdown",
   "id": "partial-background",
   "metadata": {},
   "source": [
    "## 発展課題"
   ]
  },
  {
   "cell_type": "markdown",
   "id": "sustainable-drunk",
   "metadata": {},
   "source": [
    "<!-- textlint-disable jtf-style/1.1.1.本文 -->\n",
    "\n",
    "余裕があればやってみてください。\n",
    "\n",
    "<!-- textlint-enable -->"
   ]
  },
  {
   "cell_type": "markdown",
   "id": "three-trick",
   "metadata": {},
   "source": [
    "(2) 次の漸化式[<sup id=\"cite_ref-21\">[21]</sup>](#cite_note-21)で定義される関数`f`を再帰呼び出しを利用して作り、$f(3, 3)$を評価せよ。ただし$d=4-10^{-10}$とする。"
   ]
  },
  {
   "cell_type": "markdown",
   "id": "surrounded-council",
   "metadata": {},
   "source": [
    "$$\n",
    "f(1, 1) = 1 ,\n",
    "\\tag{8}\n",
    "$$"
   ]
  },
  {
   "cell_type": "markdown",
   "id": "accurate-singer",
   "metadata": {},
   "source": [
    "<!-- textlint-disable ja-technical-writing/sentence-length,ja-engineering-paper/use-si-units -->\n",
    "\n",
    "$$\n",
    "f(n_1,n_2) = - \\frac{(d - n_1 - n_2)(d - 2 n_1 - 2 n_2 + 2)}{(n_1 - 1)(d - 2 n_1)} f(n_1 - 1, n_2) ,\n",
    "\\qquad \\text{for } n_1 \\ge 2 ,\n",
    "\\tag{9}\n",
    "$$\n",
    "\n",
    "<!-- textlint-enable -->"
   ]
  },
  {
   "cell_type": "markdown",
   "id": "furnished-feedback",
   "metadata": {},
   "source": [
    "<!-- textlint-disable ja-technical-writing/sentence-length,ja-engineering-paper/use-si-units -->\n",
    "\n",
    "$$\n",
    "f(n_1,n_2) = - \\frac{(d - n_1 - n_2)(d - 2 n_1 - 2 n_2 + 2)}{(n_2 - 1)(d - 2 n_2)} f(n_1, n_2 - 1) ,\n",
    "\\qquad \\text{for } n_2 \\ge 2 .\n",
    "\\tag{10}\n",
    "$$\n",
    "\n",
    "<!-- textlint-enable -->"
   ]
  },
  {
   "cell_type": "code",
   "execution_count": null,
   "id": "geographic-warning",
   "metadata": {},
   "outputs": [],
   "source": [
    "# 課題解答4.2  <-- 提出する際に、この行を必ず含めること。\n",
    "\n",
    "d = 4 - 1.0e-10\n",
    "\n",
    "def f(n1, n2):\n",
    "    ...  # ここを書き換える。 \n",
    "\n",
    "\n",
    "\n",
    "f(3, 3)"
   ]
  },
  {
   "cell_type": "markdown",
   "id": "critical-miracle",
   "metadata": {},
   "source": [
    "## 脚注"
   ]
  },
  {
   "cell_type": "markdown",
   "id": "expressed-state",
   "metadata": {},
   "source": [
    "<!-- textlint-disable ja-technical-writing/ja-no-mixed-period -->\n",
    "\n",
    "<span id=\"cite_note-1\">1.</span> [^](#cite_ref-1)\n",
    "計算手順を関数によって分割することをさらに発展させると、次の2つのプログラミングパラダイムに辿り着くだろう：\n",
    "- （分割された）データと計算手順を組み合わせたオブジェクトを中心に据えるオブジェクト指向プログラミング。\n",
    "- 参照透過性を重視した関数型プログラミング。\n",
    "\n",
    "現代的なプログラミング言語の多くと同様に、Pythonは両方の特徴を取り入れたマルチパラダイムプログラミング言語となっている（詳しくは[クラス](https://docs.python.org/ja/3/tutorial/classes.html)や[関数型プログラミング](https://docs.python.org/ja/3/howto/functional.html)を参照せよ）。\n",
    "\n",
    "<!-- textlint-enable -->"
   ]
  },
  {
   "cell_type": "markdown",
   "id": "difficult-cloud",
   "metadata": {},
   "source": [
    "<!-- textlint-disable ja-technical-writing/sentence-length -->\n",
    "\n",
    "<span id=\"cite_note-2\">2.</span> [^](#cite_ref-2)\n",
    "ここでの例のような値を返さない「関数」のことを、プログラミング言語によっては手続き（procedure）、サブルーチン（subroutine）と呼んで関数（function）とは区別することもある。技術的には、Pythonの値を返さない「関数」は、何もないという値`None`を返している。\n",
    "\n",
    "<!-- textlint-enable -->"
   ]
  },
  {
   "cell_type": "markdown",
   "id": "latter-african",
   "metadata": {},
   "source": [
    "<span id=\"cite_note-3\">3.</span> [^](#cite_ref-3)\n",
    "通常、引数は「ひきすう」というように湯桶読みされる。"
   ]
  },
  {
   "cell_type": "markdown",
   "id": "appropriate-uncle",
   "metadata": {},
   "source": [
    "<span id=\"cite_note-4\">4.</span> [^](#cite_ref-4)\n",
    "最初に関数の説明（人間用のコメント）として[docstring](https://docs.python.org/ja/3/glossary.html#term-docstring)を書くことも多い。"
   ]
  },
  {
   "cell_type": "markdown",
   "id": "divine-disaster",
   "metadata": {},
   "source": [
    "<span id=\"cite_note-5\">5.</span> [^](#cite_ref-5)\n",
    "と言うよりも、`def`による関数定義も「変数に関数を代入する」ことだと思ってよいだろう。\n",
    "```python\n",
    "dog = lambda: print('Bow Wow')  # 右辺はラムダ式による無名関数\n",
    "dog()\n",
    "```"
   ]
  },
  {
   "cell_type": "markdown",
   "id": "still-crime",
   "metadata": {},
   "source": [
    "<span id=\"cite_note-6\">6.</span> [^](#cite_ref-6)\n",
    "関数の定義に使われている引数としての変数を特に仮引数（formal parameter）と呼ぶことがある。"
   ]
  },
  {
   "cell_type": "markdown",
   "id": "selected-marshall",
   "metadata": {},
   "source": [
    "<span id=\"cite_note-7\">7.</span> [^](#cite_ref-7)\n",
    "関数の呼び出し時に与える引数を特に実引数（actual argument）と呼ぶことがある。"
   ]
  },
  {
   "cell_type": "markdown",
   "id": "assigned-laser",
   "metadata": {},
   "source": [
    "<!-- textlint-disable ja-engineering-paper/ja-hiragana-keishikimeishi,ja-technical-writing/max-ten,ja-technical-writing/sentence-length -->\n",
    "\n",
    "<span id=\"cite_note-8\">8.</span> [^](#cite_ref-8)\n",
    "初学者はわからなくてもよいが、Pythonは引数をともなう関数呼び出しにおいて、値呼び（call by value、あるいは値渡し；pass by valueとも呼ばれる）を評価戦略（evaluation strategy）として採用している。呼び出し側で実引数として変数を与えた場合、その変数が評価され、結果の値が関数側の仮引数として新たな変数に束縛される。よって関数内で仮引数である変数に代入操作を行っても呼び出し側の実引数である変数に**影響を与えない**。CやJavaも、Pythonと同様に値呼びを採用している。一方、多くのFortranのシステムは参照呼び（call by reference、あるいは参照渡し；pass by reference）を採用しており、仮引数である変数への代入は呼び出し側の実引数に**影響する**。C++やC#、VBAなどは値呼び、参照呼びのどちらを使うかを指定できる。\n",
    "\n",
    "さて、JavaやPythonなどには参照呼び・参照渡しは言語仕様として存在しないのだが、関数への実引数としてオブジェクトを与えると**オブジェクトへの参照が値渡し**される。ネットではどうも[そのことを参照渡しと呼んでしまう界隈](https://qiita.com/raccy/items/d4c5e7995a8fc90109ee)が存在するらしい。このように本来の意味とは違う意味で「参照渡し」という用語を使ってしまう人は、JavaやPythonのように参照渡しが存在しない言語でプログラミングを学んだ方に多く見受けられる気がする（というか本来の意味での参照渡しがあれば、ちゃんと用語を使い分けるはずである）。皆さんはこうなってしまわないことを祈る。\n",
    "\n",
    "<!-- textlint-enable -->\n",
    "<!-- textlint-disable ja-engineering-paper/prh,ja-technical-writing/ja-no-weak-phrase -->\n",
    "\n",
    "リストのようにミュータブルなオブジェクトを関数の実引数として渡すと、上記のように関数側には参照が値渡しされるため、仮引数である変数への操作（要素の追加、上書きなど）は呼び出し側に影響する。が、無用な混乱をさけるため、この授業ではそのような操作はしない（と思う）。\n",
    "\n",
    "<!-- textlint-enable -->"
   ]
  },
  {
   "cell_type": "markdown",
   "id": "proud-villa",
   "metadata": {},
   "source": [
    "<span id=\"cite_note-9\">9.</span> [^](#cite_ref-9)\n",
    "関数から返ってきた値を、戻り値（return value）、返り値、返却値などと呼ぶ。"
   ]
  },
  {
   "cell_type": "markdown",
   "id": "geological-intro",
   "metadata": {},
   "source": [
    "<span id=\"cite_note-10\">10.</span> [^](#cite_ref-10)\n",
    "右辺はタプルであり（タプルのパック；tuple packing）、また、左辺への代入時にシーケンスのアンパック（sequence unpacking）が起こっている。"
   ]
  },
  {
   "cell_type": "markdown",
   "id": "liked-venice",
   "metadata": {},
   "source": [
    "<span id=\"cite_note-11\">11.</span> [^](#cite_ref-11)\n",
    "デフォルト引数、キーワード引数を含む関数定義の詳細については[ここ](https://docs.python.org/ja/3/tutorial/controlflow.html#more-on-defining-functions)を参照せよ。"
   ]
  },
  {
   "cell_type": "markdown",
   "id": "false-switzerland",
   "metadata": {},
   "source": [
    "<span id=\"cite_note-12\">12.</span> [^](#cite_ref-12)\n",
    "外側の変数を変更したい場合は[global文](https://docs.python.org/ja/3/reference/simple_stmts.html#the-global-statement)や[nonlocal文](https://docs.python.org/ja/3/reference/simple_stmts.html#the-nonlocal-statement)による宣言が必要である。"
   ]
  },
  {
   "cell_type": "markdown",
   "id": "geographic-samuel",
   "metadata": {},
   "source": [
    "<span id=\"cite_note-13\">13.</span> [^](#cite_ref-13)\n",
    "ローカル変数としての名前の束縛は、変数への代入が見つかった時点で起こる。次の例では（`x = 1`の文は絶対に実行されないが）`x`はローカルとなるので、代入前に参照したこととなりエラーが起こる。\n",
    "```python\n",
    "x = 2\n",
    "\n",
    "def f():\n",
    "    print(x)\n",
    "    if False:\n",
    "        x = 1\n",
    "    \n",
    "f()\n",
    "```\n",
    "一方で、変数の名前解決は実行時に行われる。関数の定義時に定義されていなかったグローバル変数を参照しようとしてもよい（実行時に定義されていれば）。\n",
    "```python\n",
    "def f():\n",
    "    print(new_x)\n",
    "    \n",
    "new_x = 3\n",
    "\n",
    "f()\n",
    "```"
   ]
  },
  {
   "cell_type": "markdown",
   "id": "looking-durham",
   "metadata": {},
   "source": [
    "<span id=\"cite_note-14\">14.</span> [^](#cite_ref-14)\n",
    "関数定義のほかには、クラス定義や（サブ）モジュールもスコープを作る。"
   ]
  },
  {
   "cell_type": "markdown",
   "id": "arctic-lafayette",
   "metadata": {},
   "source": [
    "<span id=\"cite_note-15\">15.</span> [^](#cite_ref-15)\n",
    "[クロージャ](https://ja.wikipedia.org/wiki/%E3%82%AF%E3%83%AD%E3%83%BC%E3%82%B8%E3%83%A3)（closure）となっており、`gen_func`に渡された`x`の値が保存されている。"
   ]
  },
  {
   "cell_type": "markdown",
   "id": "german-executive",
   "metadata": {},
   "source": [
    "<span id=\"cite_note-16\">16.</span> [^](#cite_ref-16)\n",
    "ある関数からその関数を呼ぶ他の関数を呼ぶ、あるいは2つ以上の関数が相互に呼び出し合う場合（相互再帰）も含む。"
   ]
  },
  {
   "cell_type": "markdown",
   "id": "apparent-facial",
   "metadata": {},
   "source": [
    "<span id=\"cite_note-17\">17.</span> [^](#cite_ref-17)\n",
    "ただし最大再帰回数（再帰の深さ）はシステムに依存する（[sys.getrecursionlimit](https://docs.python.org/ja/3/library/sys.html#sys.getrecursionlimit)を参照）。"
   ]
  },
  {
   "cell_type": "markdown",
   "id": "functional-malta",
   "metadata": {},
   "source": [
    "<span id=\"cite_note-18\">18.</span> [^](#cite_ref-18)\n",
    "正の整数以外を渡すと最大再帰回数まで自分自身を呼び続けてしまい`RecursionError`が起こる。"
   ]
  },
  {
   "cell_type": "markdown",
   "id": "arabic-kuwait",
   "metadata": {},
   "source": [
    "<span id=\"cite_note-19\">19.</span> [^](#cite_ref-19)\n",
    "なお、mathモジュールに[階乗を求める関数](https://docs.python.org/ja/3/library/math.html#math.factorial)がある。"
   ]
  },
  {
   "cell_type": "markdown",
   "id": "worth-spirit",
   "metadata": {},
   "source": [
    "<span id=\"cite_note-20\">20.</span> [^](#cite_ref-20)\n",
    "ただしフィボナッチ数列の再帰による計算は非効率である。実際には、繰り返しを使って再帰のない形に書き直すか、[メモ化](https://ja.wikipedia.org/wiki/%E3%83%A1%E3%83%A2%E5%8C%96)（memoization）を使うとよい（例えば[これ](https://docs.python.org/ja/3.6/library/functools.html#functools.lru_cache)）。また、世の中には意図的に再帰による計算が非効率になるように考案された[たらいまわし関数](https://ja.wikipedia.org/wiki/%E7%AB%B9%E5%86%85%E9%96%A2%E6%95%B0)と呼ばれるものがある。"
   ]
  },
  {
   "cell_type": "markdown",
   "id": "comfortable-lying",
   "metadata": {},
   "source": [
    "<!-- textlint-disable ja-technical-writing/no-exclamation-question-mark,ja-technical-writing/ja-no-successive-word -->\n",
    "\n",
    "<span id=\"cite_note-21\">21.</span> [^](#cite_ref-21)\n",
    "あれ、なぜか[これ](https://www.nikhef.nl/~tueda/hpp_45loops.pdf)の11ページで見覚えがある……こいつ、$d=4$次元だと最終結果は有限なのに漸化式を使ったときの途中式が発散するぞ……！！\n",
    "\n",
    "<!-- textlint-enable -->"
   ]
  }
 ],
 "metadata": {
  "kernelspec": {
   "display_name": "Python 3",
   "language": "python",
   "name": "python3"
  },
  "language_info": {
   "codemirror_mode": {
    "name": "ipython",
    "version": 3
   },
   "file_extension": ".py",
   "mimetype": "text/x-python",
   "name": "python",
   "nbconvert_exporter": "python",
   "pygments_lexer": "ipython3",
   "version": "3.6.13"
  }
 },
 "nbformat": 4,
 "nbformat_minor": 5
}
