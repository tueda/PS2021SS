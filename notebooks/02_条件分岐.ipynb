{
 "cells": [
  {
   "cell_type": "markdown",
   "id": "radical-minority",
   "metadata": {},
   "source": [
    "# 条件分岐"
   ]
  },
  {
   "cell_type": "markdown",
   "id": "biological-firewall",
   "metadata": {},
   "source": [
    "前回学んだプログラムは順次処理、つまり上から下へと順番に何らかの処理を行うものであった。今回は「もし…ならば…をする」のように、ある条件が成り立っているかどうかをプログラムの中で判断して、条件が成り立つ場合のみに何らかの処理をすることを学ぶ。"
   ]
  },
  {
   "cell_type": "markdown",
   "id": "hollow-turner",
   "metadata": {},
   "source": [
    "## 今回のねらい"
   ]
  },
  {
   "cell_type": "markdown",
   "id": "instrumental-terrain",
   "metadata": {},
   "source": [
    "- if文による条件分岐を理解する。"
   ]
  },
  {
   "cell_type": "markdown",
   "id": "younger-mouse",
   "metadata": {},
   "source": [
    "## if文"
   ]
  },
  {
   "cell_type": "markdown",
   "id": "verified-conflict",
   "metadata": {},
   "source": [
    "if文を使うと、ある条件が成立している場合のみに何らかの処理を実行できる。まずは簡単な例を見てみよう。"
   ]
  },
  {
   "cell_type": "code",
   "execution_count": null,
   "id": "threatened-renewal",
   "metadata": {},
   "outputs": [],
   "source": [
    "n = 10\n",
    "\n",
    "if n > 0:\n",
    "    print('nは正です')"
   ]
  },
  {
   "cell_type": "markdown",
   "id": "faced-broadcasting",
   "metadata": {},
   "source": [
    "if文における文法上のポイントは以下の通りである。\n",
    "\n",
    "- if文はキーワード`if`[<sup id=\"cite_ref-1\">[1]</sup>](#cite_note-1)から始まる。\n",
    "- キーワード`if`の後に条件[<sup id=\"cite_ref-2\">[2]</sup>](#cite_note-2)を与え（上の例では`n > 0`）、その後にコロン（`:`）を書く。\n",
    "- 条件成立の場合のみに実行する部分（ブロック）は、インデント（右寄せ）のレベルで表す（上の例ではスペース4つ[<sup id=\"cite_ref-3\">[3]</sup>](#cite_note-3)）。"
   ]
  },
  {
   "cell_type": "markdown",
   "id": "practical-estimate",
   "metadata": {},
   "source": [
    "構文上のブロックがインデントで表される（オフサイドルール；off-side rule）のはPythonの大きな特徴である。ブロックは複数の実行文を含んでいてもよい（下の練習問題を参照）。"
   ]
  },
  {
   "cell_type": "markdown",
   "id": "loved-badge",
   "metadata": {},
   "source": [
    "if文の条件としてよく使われるのは、次のような比較演算である。"
   ]
  },
  {
   "cell_type": "markdown",
   "id": "intellectual-measure",
   "metadata": {},
   "source": [
    "| 演算       | 意味                  | 備考                    |\n",
    "| :--------: | :-------------------- | :---------------------- |\n",
    "|  `x == y`  | `x`と`y`は等しい      | `=`は代入文で使われる。 |\n",
    "|  `x != y`  | `x`と`y`は等しくない  | `=!`ではない。          |\n",
    "|  `x < y`   | `x`は`y`よりも小さい  |                         |\n",
    "|  `x > y`   | `x`は`y`よりも大きい  |                         |\n",
    "|  `x >= y`  | `x`は`y`以上である    | `=>`ではない。          |\n",
    "|  `x <= y`  | `x`は`y`以下である    | `=<`ではない。          |"
   ]
  },
  {
   "cell_type": "markdown",
   "id": "competitive-arena",
   "metadata": {},
   "source": [
    "これらの比較演算の結果は真（`True`）か偽（`False`）となる[<sup id=\"cite_ref-4\">[4]</sup>](#cite_note-4)[<sup id=\"cite_ref-5\">[5]</sup>](#cite_note-5)。"
   ]
  },
  {
   "cell_type": "markdown",
   "id": "korean-column",
   "metadata": {},
   "source": [
    "注意：一般に、浮動小数点数の比較において等値比較（`x == y`）のように等号を含む比較は「危険」である。浮動小数点数は近似値であり、結果に数値誤差が含まれる可能性を念頭に置かなければならない[<sup id=\"cite_ref-6\">[6]</sup>](#cite_note-6)。"
   ]
  },
  {
   "cell_type": "markdown",
   "id": "greatest-batch",
   "metadata": {},
   "source": [
    "## 練習問題"
   ]
  },
  {
   "cell_type": "markdown",
   "id": "naughty-freight",
   "metadata": {},
   "source": [
    "次の例では、`n`が正か負かによって、表示する内容を変えている。`n`は整数と仮定する。"
   ]
  },
  {
   "cell_type": "code",
   "execution_count": null,
   "id": "selected-coupon",
   "metadata": {},
   "outputs": [],
   "source": [
    "n = 10\n",
    "\n",
    "if n > 0:\n",
    "    print('nは0よりも大きいです')\n",
    "    print('つまりnは正です')\n",
    "    \n",
    "if n < 0:\n",
    "    print('nは0よりも小さいです')\n",
    "    print('つまりnは負です')"
   ]
  },
  {
   "cell_type": "markdown",
   "id": "seven-arcade",
   "metadata": {},
   "source": [
    "(1) 実際に`n`を負に設定して、表示される内容が変わることを確認せよ。"
   ]
  },
  {
   "cell_type": "markdown",
   "id": "international-toolbox",
   "metadata": {},
   "source": [
    "(2) 上のプログラムでは、`n`が0のときには何も表示されない。`n`が0のときには「`nは0です`」と表示されるように処理を追加し、実際に`n`を0に設定してメッセージが表示されることを確認せよ。"
   ]
  },
  {
   "cell_type": "markdown",
   "id": "graphic-kingdom",
   "metadata": {},
   "source": [
    "## ブール演算"
   ]
  },
  {
   "cell_type": "markdown",
   "id": "western-psychology",
   "metadata": {},
   "source": [
    "比較演算結果のような真偽値をもとに、論理積（`and`）、論理和（`or`）、否定（`not`）を用いて、ブール演算（論理演算とも言う）を行える[<sup id=\"cite_ref-7\">[7]</sup>](#cite_note-7)。"
   ]
  },
  {
   "cell_type": "markdown",
   "id": "blessed-optimum",
   "metadata": {},
   "source": [
    "| `a`     | `b`     | `a and b` | `a or b` | \n",
    "| :-----: | :-----: | :-------: | :------: |\n",
    "| `True`  | `True`  | `True`    | `True`   |\n",
    "| `True`  | `False` | `False`   | `True`   |\n",
    "| `False` | `True`  | `False`   | `True`   |\n",
    "| `False` | `False` | `False`   | `False`  |"
   ]
  },
  {
   "cell_type": "markdown",
   "id": "numerical-cambodia",
   "metadata": {},
   "source": [
    "| `a`     | `not a`  |\n",
    "| :-----: | :------: |\n",
    "| `True`  | `False`  | \n",
    "| `False` | `True`   |"
   ]
  },
  {
   "cell_type": "markdown",
   "id": "banned-silicon",
   "metadata": {},
   "source": [
    "ここで論理和`a or b`（数学の記号で書くと$a \\lor b$）は、`a`と`b`のうち**少なくとも**1つが`True`であれば結果が`True`となることに注意しよう[<sup id=\"cite_ref-8\">[8]</sup>](#cite_note-8)。"
   ]
  },
  {
   "cell_type": "markdown",
   "id": "macro-seating",
   "metadata": {},
   "source": [
    "次のセルを実行して、結果がどうなるか確かめてみよう。"
   ]
  },
  {
   "cell_type": "code",
   "execution_count": null,
   "id": "offshore-harrison",
   "metadata": {},
   "outputs": [],
   "source": [
    "3 < 5 and 2 < 6"
   ]
  },
  {
   "cell_type": "code",
   "execution_count": null,
   "id": "lonely-competition",
   "metadata": {},
   "outputs": [],
   "source": [
    "5 < 3 or 5 < 10"
   ]
  },
  {
   "cell_type": "code",
   "execution_count": null,
   "id": "pleasant-anatomy",
   "metadata": {},
   "outputs": [],
   "source": [
    "not 3 < 5"
   ]
  },
  {
   "cell_type": "code",
   "execution_count": null,
   "id": "injured-repeat",
   "metadata": {},
   "outputs": [],
   "source": [
    "a = 3 < 5  # 比較演算の結果をaに代入\n",
    "a and 0 < 10"
   ]
  },
  {
   "cell_type": "code",
   "execution_count": null,
   "id": "periodic-george",
   "metadata": {},
   "outputs": [],
   "source": [
    "x = 1\n",
    "y = 2\n",
    "z = 3\n",
    "(x * y) + z > 5 or z % 2 == 1"
   ]
  },
  {
   "cell_type": "markdown",
   "id": "careful-isaac",
   "metadata": {},
   "source": [
    "Pythonでは`a < b < c`のような書き方が認められており、これは`a < b and b < c`と同等である[<sup id=\"cite_ref-9\">[9]</sup>](#cite_note-9)。"
   ]
  },
  {
   "cell_type": "code",
   "execution_count": null,
   "id": "initial-management",
   "metadata": {},
   "outputs": [],
   "source": [
    "x = 1\n",
    "y = 1\n",
    "z = 2\n",
    "w = 2\n",
    "x <= y <= z == w"
   ]
  },
  {
   "cell_type": "markdown",
   "id": "welsh-appliance",
   "metadata": {},
   "source": [
    "<!-- textlint-disable ja-technical-writing/ja-no-mixed-period,ja-technical-writing/max-ten -->\n",
    "\n",
    "これまでにいくつもの演算子（算術演算子（つまり四則演算）、比較演算子、ブール演算子）が出てきたが、これらの間には明確な優先順位があり、Pythonでは[このように](https://docs.python.org/ja/3/reference/expressions.html#operator-precedence)決められている。おおまかには、\n",
    "- 算術演算子は、比較演算子およびブール演算子よりも先に評価される。\n",
    "- 比較演算子は、ブール演算子よりも先に評価される。\n",
    "\n",
    "よくわからないときは丸括弧を使って明示的に演算順序を指定してもよい。\n",
    "\n",
    "<!-- textlint-enable ja-technical-writing/ja-no-mixed-period,ja-technical-writing/max-ten -->"
   ]
  },
  {
   "cell_type": "code",
   "execution_count": null,
   "id": "organized-network",
   "metadata": {},
   "outputs": [],
   "source": [
    "x = 1\n",
    "y = 2\n",
    "print(x == 0 and y == 1 or x == 1 and y == 2 or x == 2 and y == 0)\n",
    "print((x == 0 and y == 1) or (x == 1 and y == 2) or (x == 2 and y == 0))  # 上と同じ意味"
   ]
  },
  {
   "cell_type": "markdown",
   "id": "universal-machine",
   "metadata": {},
   "source": [
    "## if...elif...else..."
   ]
  },
  {
   "cell_type": "markdown",
   "id": "minute-while",
   "metadata": {},
   "source": [
    "「もし…ならば…をして、さもなければ…をする」という条件分岐をする場合は、`if`文に対し`else`節を加える。"
   ]
  },
  {
   "cell_type": "code",
   "execution_count": null,
   "id": "elect-spokesman",
   "metadata": {},
   "outputs": [],
   "source": [
    "n = 10\n",
    "\n",
    "if n % 2 == 0:\n",
    "    print('nは偶数')\n",
    "else:\n",
    "    print('nは奇数')"
   ]
  },
  {
   "cell_type": "markdown",
   "id": "proved-induction",
   "metadata": {},
   "source": [
    "ポイントは以下の通りである。\n",
    "\n",
    "- `else`は対応する`if`と同じインデントのレベルに置く。\n",
    "- `else`の後にコロン（`:`）を書く。\n",
    "- ブロックは（やはり）インデントのレベルで表す。"
   ]
  },
  {
   "cell_type": "markdown",
   "id": "dynamic-marketing",
   "metadata": {},
   "source": [
    "上の例では、$n$を$2$で割った余りが$0$かどうかを調べて（つまりは偶数かどうかを判断して）、偶数か奇数かを表示している。"
   ]
  },
  {
   "cell_type": "markdown",
   "id": "appreciated-smell",
   "metadata": {},
   "source": [
    "「もし…ならば…をして、そうでなくてもし…ならば…をして、…（以下続く）」のような条件分岐をする場合は、`elif`（else ifの意味）節を（いくらでも）加えることができる。最後の`else`節は必要なければなくてもよい。コロン（`:`）とインデントに注意しよう。"
   ]
  },
  {
   "cell_type": "code",
   "execution_count": null,
   "id": "broad-match",
   "metadata": {},
   "outputs": [],
   "source": [
    "n = 10\n",
    "\n",
    "if n % 10 == 0:\n",
    "    print('nの1の位は0')\n",
    "elif n % 10 == 1:\n",
    "    print('nの1の位は1')\n",
    "elif n % 10 == 2:\n",
    "    print('nの1の位は2')\n",
    "else:\n",
    "    print('nの1の位は0でも1でも2でもない')"
   ]
  },
  {
   "cell_type": "markdown",
   "id": "severe-continuity",
   "metadata": {},
   "source": [
    "注意として、`if...elif...`では、上から順に条件が成立するかどうかをみていき、最初に成立した条件と対応したブロック**のみ**が実行される。次の例では、$n=15$は$3$の倍数でも$5$の倍数でもあるが、初めに成立した$3$の倍数という条件に対応したブロックのみが実行される。"
   ]
  },
  {
   "cell_type": "code",
   "execution_count": null,
   "id": "sporting-subscription",
   "metadata": {},
   "outputs": [],
   "source": [
    "n = 15\n",
    "\n",
    "if n % 3 == 0:\n",
    "    print('nは3の倍数')\n",
    "elif n % 5 == 0:\n",
    "    print('nは5の倍数')\n",
    "else:\n",
    "    print('nは3の倍数でも5の倍数でもない')"
   ]
  },
  {
   "cell_type": "markdown",
   "id": "delayed-stream",
   "metadata": {},
   "source": [
    "## 練習問題"
   ]
  },
  {
   "cell_type": "markdown",
   "id": "disturbed-router",
   "metadata": {},
   "source": [
    "<!-- textlint-disable ja-technical-writing/no-doubled-joshi -->\n",
    "\n",
    "(3) 上の例において、$n$が$3$の倍数であり、かつ$5$の倍数でもあるときは、`'nは3の倍数でも5の倍数でもある'`と表示するように書き換えよ。\n",
    "\n",
    "<!-- textlint-enable ja-technical-writing/no-doubled-joshi -->"
   ]
  },
  {
   "cell_type": "markdown",
   "id": "residential-motorcycle",
   "metadata": {},
   "source": [
    "<!-- textlint-disable ja-technical-writing/sentence-length -->\n",
    "\n",
    "\n",
    "(4) 正の整数$n$に対し、$n$が1桁の数（つまり1以上9以下）なら`'1桁'`、$n$が2桁（10以上99以下）なら`'2桁'`、$n$が3桁なら`'3桁'`、それ以外なら`'4桁以上'`と表示するようなプログラムを書け。\n",
    "\n",
    "<!-- textlint-enable ja-technical-writing/sentence-length -->"
   ]
  },
  {
   "cell_type": "markdown",
   "id": "opposite-python",
   "metadata": {},
   "source": [
    "## if文のネスト"
   ]
  },
  {
   "cell_type": "markdown",
   "id": "exclusive-library",
   "metadata": {},
   "source": [
    "if文は入れ子にできる（ネスト（nesting）と言う）。例えば、整数$n$が3の倍数かつ5の倍数かつ7の倍数であるかどうかを調べるために次のように書くことができる。"
   ]
  },
  {
   "cell_type": "code",
   "execution_count": null,
   "id": "driven-socket",
   "metadata": {},
   "outputs": [],
   "source": [
    "n = 1785\n",
    "\n",
    "if n % 3 == 0:\n",
    "    if n % 5 == 0:\n",
    "        if n % 7 == 0:\n",
    "            print('nは3の倍数かつ5の倍数かつ7の倍数である')"
   ]
  },
  {
   "cell_type": "markdown",
   "id": "administrative-hamilton",
   "metadata": {},
   "source": [
    "<!-- textlint-disable ja-technical-writing/ja-no-mixed-period -->\n",
    "\n",
    "ただし、この場合は\n",
    "\n",
    "<!-- textlint-enable ja-technical-writing/ja-no-mixed-period -->"
   ]
  },
  {
   "cell_type": "code",
   "execution_count": null,
   "id": "satisfied-benjamin",
   "metadata": {},
   "outputs": [],
   "source": [
    "n = 1785\n",
    "\n",
    "if n % 3 == 0 and n % 5 == 0 and n % 7 == 0:\n",
    "    print('nは3の倍数かつ5の倍数かつ7の倍数である')"
   ]
  },
  {
   "cell_type": "markdown",
   "id": "circular-scholarship",
   "metadata": {},
   "source": [
    "<!-- textlint-disable ja-technical-writing/ja-no-mixed-period -->\n",
    "\n",
    "のように書いたり、\n",
    "\n",
    "<!-- textlint-enable ja-technical-writing/ja-no-mixed-period -->"
   ]
  },
  {
   "cell_type": "code",
   "execution_count": null,
   "id": "anonymous-corps",
   "metadata": {},
   "outputs": [],
   "source": [
    "n = 1785\n",
    "\n",
    "if n % (3 * 5 * 7) == 0:\n",
    "    print('nは3の倍数かつ5の倍数かつ7の倍数である')"
   ]
  },
  {
   "cell_type": "markdown",
   "id": "affecting-british",
   "metadata": {},
   "source": [
    "のようにして、ネストなしの等価なプログラムに書き直すことができる。"
   ]
  },
  {
   "cell_type": "markdown",
   "id": "oriented-punch",
   "metadata": {},
   "source": [
    "次の例は、与えられた$(x, y)$の値に応じて、その点が2次元平面の中でどの象限にあるかを表示する[<sup id=\"cite_ref-10\">[10]</sup>](#cite_note-10)。"
   ]
  },
  {
   "cell_type": "code",
   "execution_count": null,
   "id": "sexual-mileage",
   "metadata": {},
   "outputs": [],
   "source": [
    "x = 2.0\n",
    "y = 3.0\n",
    "\n",
    "if x >= 0:\n",
    "    if y >= 0:\n",
    "        orthant = 1\n",
    "    else:\n",
    "        orthant = 4\n",
    "else:\n",
    "    if y >= 0:\n",
    "        orthant = 2\n",
    "    else:\n",
    "        orthant = 3\n",
    "    \n",
    "print(f'({x}, {y})は第{orthant}象限にある')"
   ]
  },
  {
   "cell_type": "markdown",
   "id": "fatal-stocks",
   "metadata": {},
   "source": [
    "## モジュールのインポート"
   ]
  },
  {
   "cell_type": "markdown",
   "id": "informed-college",
   "metadata": {},
   "source": [
    "<!-- textlint-disable ja-technical-writing/max-ten -->\n",
    "\n",
    "よく使われるプログラムの機能を再利用可能な形でまとめたものを、プログラミングの用語として一般にモジュール（module）、パッケージ（package）、ライブラリ（library）などと呼ぶ。細かな定義は対象となる分野やプログラミング言語によって異なる。前回、数学関数を扱ったときに出てきたように、Pythonではモジュールを単位として`import`文でその機能を読み込むことができる[<sup id=\"cite_ref-11\">[11]</sup>](#cite_note-11)。Pythonの[標準ライブラリ](https://docs.python.org/ja/3/library/index.html)（Pythonをインストールするともれなく付いてくる便利なプログラムの部品の集まり）にはたくさんのモジュールが含まれている。\n",
    "\n",
    "<!-- textlint-enable ja-technical-writing/max-ten -->"
   ]
  },
  {
   "cell_type": "markdown",
   "id": "banned-draft",
   "metadata": {},
   "source": [
    "次のセルでは、[`random`モジュール](https://docs.python.org/ja/3/library/random.html)をインポートし、その中に含まれている[`randint`関数](https://docs.python.org/ja/3/library/random.html#random.randint)を使用している[<sup id=\"cite_ref-12\">[12]</sup>](#cite_note-12)。ここで`random.randint(a, b)`は整数$a$と$b$に対し、$a$以上$b$以下の整数乱数（つまりランダムな整数）を返す。何回も実行して、確かに毎回違った整数が得られていることを確かめよ。"
   ]
  },
  {
   "cell_type": "code",
   "execution_count": null,
   "id": "behind-cradle",
   "metadata": {},
   "outputs": [],
   "source": [
    "import random\n",
    "\n",
    "r = random.randint(1, 6)  # サイコロ：実行するたびに違う1から6の整数\n",
    "print(r)"
   ]
  },
  {
   "cell_type": "markdown",
   "id": "quarterly-accident",
   "metadata": {},
   "source": [
    "## じゃんけんゲーム"
   ]
  },
  {
   "cell_type": "markdown",
   "id": "substantial-steel",
   "metadata": {},
   "source": [
    "もう少し複雑な条件判断の例として、次のようなじゃんけんゲームを考える。\n",
    "\n",
    "- 人間とコンピューターがじゃんけんを1回して勝負する。\n",
    "- 人間はグー、チョキ、パー、のどれかを選ぶ。\n",
    "- コンピューターは、グー、チョキ、パー、のどれかをランダムに選ぶ。\n",
    "- 人間とコンピューターの選んだ手によって、人間の勝ち、コンピューターの勝ち、あいこ、が決まる。\n",
    "\n",
    "これをプログラムによって行いたい。"
   ]
  },
  {
   "cell_type": "markdown",
   "id": "multiple-tribe",
   "metadata": {},
   "source": [
    "まず、プログラム内でグー、チョキ、パーをどのように表すかを決めなければならない。ここでは、グー、チョキ、パーを次のようにそれぞれ整数$0$、$1$、$2$で表すことにしよう。"
   ]
  },
  {
   "cell_type": "markdown",
   "id": "endangered-cruise",
   "metadata": {},
   "source": [
    "| グー | チョキ | パー |\n",
    "|:----:|:------:|:----:|\n",
    "| 0    | 1      | 2    |"
   ]
  },
  {
   "cell_type": "markdown",
   "id": "simple-maximum",
   "metadata": {},
   "source": [
    "人間の手は`input`関数（と`int`への変換）を用いて、$0$から$2$の数字のいずれかを入力することとする。コンピューターの手は上で学んだ`random.randint`を用いて生成できる。人間の手とコンピューターの手をそれぞれ`man`、`com`という変数に格納することとしよう。"
   ]
  },
  {
   "cell_type": "markdown",
   "id": "vietnamese-indiana",
   "metadata": {},
   "source": [
    "次に人間の手とコンピューターの手の組み合わせをすべて考える。人間の手が3通り、コンピューターの手が3通りなので、全部で9通りの組み合わせがある。その中で、たとえば人間がグー、コンピューターがチョキの場合、人間の勝ちである。人間の勝ちとなる組み合わせはこのほかに2通りある。"
   ]
  },
  {
   "cell_type": "markdown",
   "id": "dress-longitude",
   "metadata": {},
   "source": [
    "あとは`if`文を使って結果を判断し、`print`関数を使って結果を表示すればよい[<sup id=\"cite_ref-13\">[13]</sup>](#cite_note-13)。"
   ]
  },
  {
   "cell_type": "markdown",
   "id": "fixed-retail",
   "metadata": {},
   "source": [
    "<!-- textlint-disable ja-technical-writing/ja-no-mixed-period -->\n",
    "\n",
    "`if`文の条件として、たとえば人間がグーを出したことを`man == 0`のように書いてもよいが、始めにじゃんけんの手を表す「定数」[<sup id=\"cite_ref-14\">[14]</sup>](#cite_note-14)を\n",
    "\n",
    "```python\n",
    "GU = 0\n",
    "CHOKI = 1\n",
    "PA = 2\n",
    "```\n",
    "\n",
    "のように定義しておき、人間がグーを出したことを`man == GU`と書いたほうが、後から読んだとき比較条件が理解しやすいだろう。\n",
    "\n",
    "<!-- textlint-disable ja-technical-writing/ja-no-mixed-period -->"
   ]
  },
  {
   "cell_type": "markdown",
   "id": "sunrise-forwarding",
   "metadata": {},
   "source": [
    "## 演習課題"
   ]
  },
  {
   "cell_type": "markdown",
   "id": "sonic-herald",
   "metadata": {},
   "source": [
    "(1) 上の説明を参考にして、じゃんけんゲームを完成させよ。2か所書き換える必要がある。提出する前に、何回か実行してうまく動いていることを確認すること。"
   ]
  },
  {
   "cell_type": "code",
   "execution_count": null,
   "id": "heavy-wireless",
   "metadata": {},
   "outputs": [],
   "source": [
    "# 課題解答2.1  <-- 提出時に、このコメント行を必ず含めること。\n",
    "\n",
    "import random\n",
    "\n",
    "# じゃんけんの手を表す定数\n",
    "GU = 0\n",
    "CHOKI = 1\n",
    "PA = 2\n",
    "\n",
    "# 人間の手（簡単のため、プレイヤーは必ず'0'、'1'、'2'のいずれかを入力すると仮定する）\n",
    "man = int(input('あなたの手を 0 = グー、 1 = チョキ、2 = パー、のどれかから選んでください'))\n",
    "\n",
    "# コンピューターの手\n",
    "com = GU  # ここを書き換えてランダムな手を選ぶようにする。\n",
    "\n",
    "# 結果の判別\n",
    "if man == com:\n",
    "    result = 'あいこ'\n",
    "elif ...:  # ここの条件をうまく書き換える。ヒント: 少し長くなるが and や or を組み合わせてみよう。\n",
    "    result = 'あなたの勝ち'\n",
    "else:\n",
    "    result = 'コンピューターの勝ち'\n",
    "\n",
    "# 結果を表示\n",
    "print(f'あなた = {man}, コンピューター = {com}: {result}')"
   ]
  },
  {
   "cell_type": "markdown",
   "id": "difficult-allah",
   "metadata": {},
   "source": [
    "(2) `random.randint`を用いて[<sup id=\"cite_ref-15\">[15]</sup>](#cite_note-15)、次のようなおみくじプログラムを作れ。\n",
    "\n",
    "- **乱数を使って、おみくじの内容を決め、その結果を表示**する。\n",
    "- おみくじの内容には少なくとも**「大吉」、「吉」、「凶」の3つ**を含めるものとする。\n",
    "- 好みによって、ほかにも「末吉」、「大凶」などを含めてもよい。また、「大吉」など特定のくじの出やすいよう確率配分に傾斜を入れてもよいが、それぞれのくじの出る確率がすべて10%以上となるようにすること（でないと確認が困難なため）。\n",
    "- なお、くじの表示されない場合があったり、エラーがたまに起こるというのは減点とする（おそらくプログラム作成のミスである）。実行したら必ず何らかのくじが表示されるようにすること。提出する前に、何回か実行してうまく動いていることを確認しよう。"
   ]
  },
  {
   "cell_type": "code",
   "execution_count": null,
   "id": "individual-project",
   "metadata": {},
   "outputs": [],
   "source": [
    "# 課題解答2.2  <-- 提出時に、このコメント行を必ず含めること。\n",
    "\n",
    "import random\n",
    "\n",
    "\n"
   ]
  },
  {
   "cell_type": "markdown",
   "id": "thirty-football",
   "metadata": {},
   "source": [
    "## 発展課題"
   ]
  },
  {
   "cell_type": "markdown",
   "id": "marked-lover",
   "metadata": {},
   "source": [
    "<!-- textlint-disable jtf-style/1.1.1.本文 -->\n",
    "\n",
    "余裕があればやってみてください。\n",
    "\n",
    "<!-- textlint-enable jtf-style/1.1.1.本文 -->"
   ]
  },
  {
   "cell_type": "markdown",
   "id": "composite-florist",
   "metadata": {},
   "source": [
    "<!-- textlint-disable jtf-style/4.3.1.丸かっこ（） -->\n",
    "\n",
    "(3) 課題(1)のじゃんけんゲームのプログラムにおいて、人間とコンピューターの手の組み合わせすべて（9通り）について次の式がどうなるかを考えよ。そして、その結果を用いてプログラムの勝ち負けの判定を書き換えよ。\n",
    "\n",
    "<!-- textlint-enable jtf-style/4.3.1.丸かっこ（） -->"
   ]
  },
  {
   "cell_type": "markdown",
   "id": "experimental-steps",
   "metadata": {},
   "source": [
    "$$\n",
    "(\\text{man} - \\text{com} + 3) \\ \\boldsymbol{\\mathrm{mod}} \\ 3\n",
    "\\tag{1}\n",
    "$$"
   ]
  },
  {
   "cell_type": "markdown",
   "id": "numerous-petite",
   "metadata": {},
   "source": [
    "ただし、$A \\ \\boldsymbol{\\mathrm{mod}} \\ B$は、$A$を$B$で割った余りを表すこととする。"
   ]
  },
  {
   "cell_type": "code",
   "execution_count": null,
   "id": "coral-newspaper",
   "metadata": {},
   "outputs": [],
   "source": [
    "# 課題解答2.3  <-- 提出時に、このコメント行を必ず含めること。\n",
    "\n",
    "import random\n",
    "\n",
    "# 課題(1)の完成プログラムをコピーして貼り付け、勝ち負けの判定を書き換えてください。\n",
    "\n",
    "\n"
   ]
  },
  {
   "cell_type": "markdown",
   "id": "chinese-wright",
   "metadata": {},
   "source": [
    "## 脚注"
   ]
  },
  {
   "cell_type": "markdown",
   "id": "ranging-accommodation",
   "metadata": {},
   "source": [
    "<span id=\"cite_note-1\">1.</span> [^](#cite_ref-1)\n",
    "`if`は文法的に予約されているキーワード（予約語）なので、`if = 1`のように変数として使おうとすると文法エラーになる。"
   ]
  },
  {
   "cell_type": "markdown",
   "id": "severe-chess",
   "metadata": {},
   "source": [
    "<span id=\"cite_note-2\">2.</span> [^](#cite_ref-2)\n",
    "条件を表す式なので「条件式」と書きたくなるし、現に他のプログラミング言語では「条件式」と説明したりもする。しかし、Pythonでは[条件式（conditional expression）](https://docs.python.org/ja/3/reference/expressions.html#conditional-expressions)という用語は、他のプログラミング言語で言うところの三項演算子（条件演算子）のことを指すようだ。"
   ]
  },
  {
   "cell_type": "markdown",
   "id": "atomic-curve",
   "metadata": {},
   "source": [
    "<!-- textlint-disable ja-engineering-paper/no-synonyms -->\n",
    "\n",
    "<span id=\"cite_note-3\">3.</span> [^](#cite_ref-3)\n",
    "Jupyterのエディターのデフォルトはスペース4つ、Google Colabのエディターのデフォルトはスペース2つである。キーボード・ショートカットとして、`Tab`キー、`Shift+Tab`キーを押すことでインデント、アンインデントできる。Colabだとメニューの「ツール - 設定 - エディタ」からインデント幅を変更できる。\n",
    "\n",
    "<!-- textlint-enable ja-engineering-paper/no-synonyms -->"
   ]
  },
  {
   "cell_type": "markdown",
   "id": "cooked-store",
   "metadata": {},
   "source": [
    "<span id=\"cite_note-4\">4.</span> [^](#cite_ref-4)\n",
    "プログラミングで論理型を表すのによく出てくるブール（bool）、ブーリアン（boolean）という名称はジョージ・ブールに因む。[数学者に向かってカメラマンが「1たす1は？」と言っても（答えが分からないから）笑ってくれない](https://togetter.com/li/1360475)という笑い話があるが、ブールの考案したブール代数においては[1+1=1](https://www.youtube.com/watch?v=92Z3gOIoH-I)である。"
   ]
  },
  {
   "cell_type": "markdown",
   "id": "thirty-conviction",
   "metadata": {},
   "source": [
    "<span id=\"cite_note-5\">5.</span> [^](#cite_ref-5)\n",
    "if文の条件に`bool`型以外の式を与えた場合、[一定の規則](https://docs.python.org/ja/3/library/stdtypes.html#truth-value-testing)をもとに`bool`型への変換が起こる。例えば、整数の場合、`0`は`False`、それ以外は`True`とみなされる。文字列であれば、空（長さが0）であれば`False`、そうでなければ`True`である。"
   ]
  },
  {
   "cell_type": "markdown",
   "id": "elder-virgin",
   "metadata": {},
   "source": [
    "<span id=\"cite_note-6\">6.</span> [^](#cite_ref-6)\n",
    "2つの浮動小数点数がごく近い値を持つという条件判断を自分で書いたり、もしくはそのために[用意されているライブラリ関数](https://docs.python.org/ja/3/library/math.html#math.isclose)を使うことになる。"
   ]
  },
  {
   "cell_type": "markdown",
   "id": "measured-express",
   "metadata": {},
   "source": [
    "<span id=\"cite_note-7\">7.</span> [^](#cite_ref-7)\n",
    "細かいことを言うと、Pythonの`and`と`or`は短絡評価を行う。つまり左オペランドの真偽によって結果が決まるなら、右オペランドは評価されない。また、左右どちらかのオペランドが必ず返され、その結果は`bool`型とは限らない。例として、`'お金' or '愛'`は、左オペランドの`'お金'`を`bool`に変換すると`True`なので、`'お金'`と評価される。`'Love' and 'Peace'`は`'Peace'`である。"
   ]
  },
  {
   "cell_type": "markdown",
   "id": "soviet-interstate",
   "metadata": {},
   "source": [
    "<!-- textlint-disable ja-technical-writing/no-mix-dearu-desumasu -->\n",
    "\n",
    "<span id=\"cite_note-8\">8.</span> [^](#cite_ref-8)\n",
    "日常会話として、レストランで「パンまたはライスが付いてきます」と聞くと、パンとライスのどちらか1つ**のみ**が付いてくると理解する人が多いだろう。これは排他的論理和（exclusive or；xor）の意味に近い。\n",
    "\n",
    "<!-- textlint-enable ja-technical-writing/no-mix-dearu-desumasu -->"
   ]
  },
  {
   "cell_type": "markdown",
   "id": "major-chapel",
   "metadata": {},
   "source": [
    "<span id=\"cite_note-9\">9.</span> [^](#cite_ref-9)\n",
    "Python以外のプログラミング言語だと`a < b < c`の意味が期待通りの意味（`a < b and b < c`）とは違うことが多いので注意すること。"
   ]
  },
  {
   "cell_type": "markdown",
   "id": "floral-blair",
   "metadata": {},
   "source": [
    "<span id=\"cite_note-10\">10.</span> [^](#cite_ref-10)\n",
    "ただし$x$軸上の点、$y$軸上の点をどうするのかは、深く考えないこととする。"
   ]
  },
  {
   "cell_type": "markdown",
   "id": "freelance-presentation",
   "metadata": {},
   "source": [
    "<span id=\"cite_note-11\">11.</span> [^](#cite_ref-11)\n",
    "モジュールのインポートの詳細については[こちら](https://docs.python.org/ja/3/tutorial/modules.html)を見よ。特に、次のようにするとモジュール内の指定した関数を直接取り込むことができる（`random.randint`ではなく`randint`として使っている）。\n",
    "```python\n",
    "from random import randint\n",
    "randint(1, 6)\n",
    "```\n",
    "また、別名をつけてモジュールを読み込むこともできる。\n",
    "```python\n",
    "import random as detarame\n",
    "detarame.randint(1, 6)\n",
    "```"
   ]
  },
  {
   "cell_type": "markdown",
   "id": "afraid-caribbean",
   "metadata": {},
   "source": [
    "<span id=\"cite_note-12\">12.</span> [^](#cite_ref-12)\n",
    "`random`モジュール内の関数については、後日「乱数」の回に詳しく見ることとなる。"
   ]
  },
  {
   "cell_type": "markdown",
   "id": "irish-smell",
   "metadata": {},
   "source": [
    "<span id=\"cite_note-13\">13.</span> [^](#cite_ref-13)\n",
    "このように、プログラムの手順を考えると同時に、当然ながらプログラム中で何を変数として記憶しておくべきかを考える必要がある。大雑把に言うと[プログラムとはアルゴリズム（計算手順）とそれに伴うデータ構造](https://en.wikipedia.org/wiki/Algorithms_%2B_Data_Structures_%3D_Programs)からできている。"
   ]
  },
  {
   "cell_type": "markdown",
   "id": "undefined-agenda",
   "metadata": {},
   "source": [
    "<span id=\"cite_note-14\">14.</span> [^](#cite_ref-14)\n",
    "Pythonにはほかのプログラミング言語にある「定数」のような機能はないのだが、すべて大文字で書かれた変数は「定数」としよう、という「[マナー](https://www.python.org/dev/peps/pep-0008/#constants)」がある。このマナーを破って「定数」を変更できてしまうが、大いなる混沌を招く結果となることであろう。"
   ]
  },
  {
   "cell_type": "markdown",
   "id": "flush-cleaner",
   "metadata": {},
   "source": [
    "<span id=\"cite_note-15\">15.</span> [^](#cite_ref-15)\n",
    "`random`モジュールの`choice`関数を使ったほうがきれいなプログラムとなるだろうが、ここでは`randint`関数を使ってほしい。"
   ]
  }
 ],
 "metadata": {
  "kernelspec": {
   "display_name": "Python 3",
   "language": "python",
   "name": "python3"
  },
  "language_info": {
   "codemirror_mode": {
    "name": "ipython",
    "version": 3
   },
   "file_extension": ".py",
   "mimetype": "text/x-python",
   "name": "python",
   "nbconvert_exporter": "python",
   "pygments_lexer": "ipython3",
   "version": "3.6.13"
  }
 },
 "nbformat": 4,
 "nbformat_minor": 5
}
